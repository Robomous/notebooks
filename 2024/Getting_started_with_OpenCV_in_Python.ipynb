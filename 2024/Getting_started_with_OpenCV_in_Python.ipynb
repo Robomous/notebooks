{
  "cells": [
    {
      "cell_type": "markdown",
      "metadata": {
        "id": "_i7Ret_JniBj"
      },
      "source": [
        "<img src=\"https://robomous.ai/images/layout/robomous-banner.svg\" alt=\"Robomous.ai\" width=300 />"
      ]
    },
    {
      "cell_type": "markdown",
      "metadata": {},
      "source": [
        "<a href=\"https://colab.research.google.com/github/Robomous/notebooks/blob/main/2024/Getting_started_with_OpenCV_in_Python.ipynb\">\n",
        "  <img src=\"https://colab.research.google.com/assets/colab-badge.svg\" alt=\"Open In Colab\"/>\n",
        "</a>"
      ]
    },
    {
      "cell_type": "markdown",
      "metadata": {
        "id": "OoRxG8RCIZMQ"
      },
      "source": [
        "This document was created by [robomous.ai](https://robomous.ai) as support material for the article titled \"*Getting started with OpenCV in Python*\" and can be accessed at the following link. The content of this notebook can be used, copied, or modified according to your convenience. Robomous authorizes the free use of its educational content shared with the public from its platform."
      ]
    },
    {
      "cell_type": "markdown",
      "metadata": {
        "id": "DzH89VcwnbNu"
      },
      "source": [
        "# Starting with OpenCV in Python"
      ]
    },
    {
      "cell_type": "markdown",
      "metadata": {
        "id": "0q2d-YVUp3oL"
      },
      "source": [
        "If you are working with Google Colab, this library has already been installed, and you don't need to installed it.\n",
        "\n",
        "Importing OpenCV in python is simple:"
      ]
    },
    {
      "cell_type": "code",
      "execution_count": null,
      "metadata": {
        "id": "IypPEUoznKUy"
      },
      "outputs": [],
      "source": [
        "import cv2"
      ]
    },
    {
      "cell_type": "markdown",
      "metadata": {
        "id": "5hO8UpNQnVvH"
      },
      "source": [
        "We can review the current version of the library."
      ]
    },
    {
      "cell_type": "code",
      "execution_count": null,
      "metadata": {
        "colab": {
          "base_uri": "https://localhost:8080/"
        },
        "id": "Fs_7z7i5nRtQ",
        "outputId": "bead140e-cb14-42de-cc79-ed83a3402325"
      },
      "outputs": [],
      "source": [
        "print(cv2.__version__)"
      ]
    },
    {
      "cell_type": "markdown",
      "metadata": {
        "id": "fw7iHuIzraTw"
      },
      "source": [
        "# 1.- Opening the first image"
      ]
    },
    {
      "cell_type": "markdown",
      "metadata": {
        "id": "OKfVQq2QJyKR"
      },
      "source": [
        "OpenCV includes a function to load images in different formats (jpg, png, bmp, ...). Usually, we work with images in JPG format. The function has two parameters: the image file path and the mode to open the image; these parameters could be one of the following options.\n",
        "\n",
        "*   cv2.IMREAD_COLOR\n",
        "*   cv2.IMREAD_GRAYSCALE\n",
        "*   cv2.IMREAD_UNCHANGED\n",
        "\n",
        "The first option loads the image in color mode, the second in grayscale, and the third loads the image as it is (including the alpha channel).\n",
        "\n",
        "The color images in OpenCV are loaded as an RGB image, but the order of the channels is BGR (Blue, Green, Red). This is for historical reasons, and you can change the order of the channels using the function cv2.cvtColor()."
      ]
    },
    {
      "cell_type": "markdown",
      "metadata": {},
      "source": [
        "Download an example image from the internet to start working with OpenCV."
      ]
    },
    {
      "cell_type": "code",
      "execution_count": null,
      "metadata": {
        "id": "0QBZOdJrnUps"
      },
      "outputs": [],
      "source": [
        "!wget -q --show-progress https://img.freepik.com/free-photo/selective-focus-shot-adorable-german-shepherd_181624-30217.jpg -O dog.jpg"
      ]
    },
    {
      "cell_type": "code",
      "execution_count": null,
      "metadata": {},
      "outputs": [],
      "source": [
        "image = cv2.imread('dog.jpg', cv2.IMREAD_COLOR)"
      ]
    },
    {
      "cell_type": "markdown",
      "metadata": {},
      "source": [
        "We can try to show the image in this notebook by using the function imshow from matplotlib and see the result.\n",
        "\n",
        "First, import the necessary library:"
      ]
    },
    {
      "cell_type": "code",
      "execution_count": null,
      "metadata": {},
      "outputs": [],
      "source": [
        "import matplotlib.pyplot as plt\n",
        "\n",
        "# Define a function to display the image, avoiding the need to duplicate the code each time.\n",
        "def display_image(image):\n",
        "    plt.imshow(image)\n",
        "    plt.axis('off')\n",
        "    plt.show()"
      ]
    },
    {
      "cell_type": "markdown",
      "metadata": {},
      "source": [
        "Show the image in the notebook:"
      ]
    },
    {
      "cell_type": "code",
      "execution_count": null,
      "metadata": {},
      "outputs": [],
      "source": [
        "display_image(image)"
      ]
    },
    {
      "cell_type": "markdown",
      "metadata": {},
      "source": [
        "You can see that the image is not displayed correctly. This is because the image is loaded in BGR mode, as mentioned before. We can convert the image to RGB mode using the cvtColor function."
      ]
    },
    {
      "cell_type": "code",
      "execution_count": null,
      "metadata": {},
      "outputs": [],
      "source": [
        "image_rgb = cv2.cvtColor(image, cv2.COLOR_BGR2RGB)\n",
        "\n",
        "display_image(image_rgb)"
      ]
    },
    {
      "cell_type": "markdown",
      "metadata": {},
      "source": [
        "Now, the image is displayed correctly and it is using the RGB mode."
      ]
    },
    {
      "cell_type": "markdown",
      "metadata": {},
      "source": [
        "# 2.- Manipulating the image"
      ]
    },
    {
      "cell_type": "markdown",
      "metadata": {},
      "source": [
        "Some of the most common operations that we can do with images are:\n",
        "\n",
        "- Resize the image\n",
        "- Rotate the image\n",
        "- Crop the image\n",
        "- Change the color of the image\n",
        "- Add text to the image\n",
        "- Draw shapes on the image\n",
        "\n",
        "We will to perform some of these operations in the next sections."
      ]
    },
    {
      "cell_type": "markdown",
      "metadata": {},
      "source": [
        "## 2.1 Resize the image"
      ]
    },
    {
      "cell_type": "code",
      "execution_count": null,
      "metadata": {},
      "outputs": [],
      "source": []
    }
  ],
  "metadata": {
    "colab": {
      "provenance": []
    },
    "kernelspec": {
      "display_name": "Python 3",
      "name": "python3"
    },
    "language_info": {
      "codemirror_mode": {
        "name": "ipython",
        "version": 3
      },
      "file_extension": ".py",
      "mimetype": "text/x-python",
      "name": "python",
      "nbconvert_exporter": "python",
      "pygments_lexer": "ipython3",
      "version": "3.10.14"
    }
  },
  "nbformat": 4,
  "nbformat_minor": 0
}
