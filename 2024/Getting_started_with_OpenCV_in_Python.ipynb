{
  "cells": [
    {
      "cell_type": "markdown",
      "metadata": {
        "id": "_i7Ret_JniBj"
      },
      "source": [
        "<img src=\"https://robomous.ai/images/layout/robomous-banner.svg\" alt=\"Robomous.ai\" width=300 />"
      ]
    },
    {
      "cell_type": "markdown",
      "metadata": {},
      "source": [
        "<a href=\"https://colab.research.google.com/github/Robomous/notebooks/blob/main/2024/Getting_started_with_OpenCV_in_Python.ipynb\">\n",
        "  <img src=\"https://colab.research.google.com/assets/colab-badge.svg\" alt=\"Open In Colab\"/>\n",
        "</a>"
      ]
    },
    {
      "cell_type": "markdown",
      "metadata": {
        "id": "OoRxG8RCIZMQ"
      },
      "source": [
        "This document was created by [robomous.ai](https://robomous.ai) as support material for the article titled \"*Getting started with OpenCV in Python*\" and can be accessed at the following link. The content of this notebook can be used, copied, or modified according to your convenience. Robomous authorizes the free use of its educational content shared with the public from its platform."
      ]
    },
    {
      "cell_type": "markdown",
      "metadata": {
        "id": "DzH89VcwnbNu"
      },
      "source": [
        "# Starting with OpenCV in Python"
      ]
    },
    {
      "cell_type": "markdown",
      "metadata": {
        "id": "0q2d-YVUp3oL"
      },
      "source": [
        "If you are working with Google Colab, this library has already been installed, and you don't need to installed it.\n",
        "\n",
        "Importing OpenCV in python is simple:"
      ]
    },
    {
      "cell_type": "code",
      "execution_count": null,
      "metadata": {
        "id": "IypPEUoznKUy"
      },
      "outputs": [],
      "source": [
        "import cv2"
      ]
    },
    {
      "cell_type": "markdown",
      "metadata": {
        "id": "5hO8UpNQnVvH"
      },
      "source": [
        "We can review the current version of the library."
      ]
    },
    {
      "cell_type": "code",
      "execution_count": null,
      "metadata": {
        "colab": {
          "base_uri": "https://localhost:8080/"
        },
        "id": "Fs_7z7i5nRtQ",
        "outputId": "bead140e-cb14-42de-cc79-ed83a3402325"
      },
      "outputs": [],
      "source": [
        "print(cv2.__version__)"
      ]
    },
    {
      "cell_type": "markdown",
      "metadata": {
        "id": "fw7iHuIzraTw"
      },
      "source": [
        "# 1.- Opening the first image"
      ]
    },
    {
      "cell_type": "markdown",
      "metadata": {
        "id": "OKfVQq2QJyKR"
      },
      "source": [
        "OpenCV includes a function to load images in different formats (jpg, png, bmp, ...). Usually, we work with images in JPG format. The function has two parameters: the image file path and the mode to open the image; these parameters could be one of the following options.\n",
        "\n",
        "*   cv2.IMREAD_COLOR\n",
        "*   cv2.IMREAD_GRAYSCALE\n",
        "*   cv2.IMREAD_UNCHANGED\n",
        "\n",
        "The first option loads the image in color mode, the second in grayscale, and the third loads the image as it is (including the alpha channel).\n",
        "\n",
        "The color images in OpenCV are loaded as an RGB image, but the order of the channels is BGR (Blue, Green, Red). This is for historical reasons, and you can change the order of the channels using the function cv2.cvtColor()."
      ]
    },
    {
      "cell_type": "markdown",
      "metadata": {},
      "source": [
        "Download an example image from the internet to start working with OpenCV."
      ]
    },
    {
      "cell_type": "code",
      "execution_count": null,
      "metadata": {
        "id": "0QBZOdJrnUps"
      },
      "outputs": [],
      "source": [
        "!wget -q --show-progress https://img.freepik.com/free-photo/selective-focus-shot-adorable-german-shepherd_181624-30217.jpg -O dog.jpg"
      ]
    },
    {
      "cell_type": "code",
      "execution_count": null,
      "metadata": {},
      "outputs": [],
      "source": [
        "image = cv2.imread('dog.jpg', cv2.IMREAD_COLOR)"
      ]
    },
    {
      "cell_type": "markdown",
      "metadata": {},
      "source": [
        "We can try to show the image in this notebook by using the function imshow from matplotlib and see the result.\n",
        "\n",
        "First, import the necessary library:"
      ]
    },
    {
      "cell_type": "code",
      "execution_count": null,
      "metadata": {},
      "outputs": [],
      "source": [
        "import matplotlib.pyplot as plt\n",
        "\n",
        "# Define a function to display the image, avoiding the need to duplicate the code each time.\n",
        "# This function will display the image in the notebook in the actual size of the image.\n",
        "def display_image(image):\n",
        "    dpi = 80\n",
        "    height, width, _ = image.shape\n",
        "\n",
        "    # What size does the figure need to be in inches to fit the image?\n",
        "    figsize = width / float(dpi), height / float(dpi)\n",
        "\n",
        "    # Create a figure of the right size with one axes that takes up the full figure\n",
        "    fig = plt.figure(figsize=figsize, dpi=dpi)\n",
        "    ax = fig.add_axes([0, 0, 1, 1])\n",
        "\n",
        "    # Hide spines, ticks, etc.\n",
        "    ax.axis('off')\n",
        "\n",
        "    # Display the image.\n",
        "    ax.imshow(image, interpolation='nearest')\n",
        "    plt.show()"
      ]
    },
    {
      "cell_type": "markdown",
      "metadata": {},
      "source": [
        "Show the image in the notebook:"
      ]
    },
    {
      "cell_type": "code",
      "execution_count": null,
      "metadata": {},
      "outputs": [],
      "source": [
        "display_image(image)"
      ]
    },
    {
      "cell_type": "markdown",
      "metadata": {},
      "source": [
        "You can see that the image is not displayed correctly. This is because the image is loaded in BGR mode, as mentioned before. We can convert the image to RGB mode using the cvtColor function."
      ]
    },
    {
      "cell_type": "code",
      "execution_count": null,
      "metadata": {},
      "outputs": [],
      "source": [
        "image_rgb = cv2.cvtColor(image, cv2.COLOR_BGR2RGB)\n",
        "\n",
        "display_image(image_rgb)"
      ]
    },
    {
      "cell_type": "markdown",
      "metadata": {},
      "source": [
        "Now, the image is displayed correctly and it is using the RGB mode."
      ]
    },
    {
      "cell_type": "markdown",
      "metadata": {},
      "source": [
        "# 2.- Manipulating the image"
      ]
    },
    {
      "cell_type": "markdown",
      "metadata": {},
      "source": [
        "Some of the most common operations that we can do with images are:\n",
        "\n",
        "- Resize the image\n",
        "- Rotate the image\n",
        "- Flip the image\n",
        "- Crop the image\n",
        "- Change the color space of the image\n",
        "- Add text to the image\n",
        "- Draw shapes on the image\n",
        "\n",
        "We will perform some of these operations in the next sections."
      ]
    },
    {
      "cell_type": "markdown",
      "metadata": {},
      "source": [
        "## 2.1 - Resize the image"
      ]
    },
    {
      "cell_type": "markdown",
      "metadata": {},
      "source": [
        "Resizing an image is a common operation when working with images. We can resize the image using the resize function."
      ]
    },
    {
      "cell_type": "code",
      "execution_count": null,
      "metadata": {},
      "outputs": [],
      "source": [
        "# Reduce the size of the image to an specific size\n",
        "image_resized = cv2.resize(image_rgb, (240, 240))\n",
        "\n",
        "display_image(image_resized)"
      ]
    },
    {
      "cell_type": "code",
      "execution_count": null,
      "metadata": {},
      "outputs": [],
      "source": [
        "# Image resized to 50% of the original size\n",
        "small_image = cv2.resize(image_rgb, (0,0), fx=0.5, fy=0.5)\n",
        "\n",
        "display_image(small_image)"
      ]
    },
    {
      "cell_type": "code",
      "execution_count": null,
      "metadata": {},
      "outputs": [],
      "source": [
        "# Increase the size of the small image to 200% of its current size\n",
        "big_image = cv2.resize(small_image, (0,0), fx=2, fy=2)\n",
        "\n",
        "display_image(big_image)"
      ]
    },
    {
      "cell_type": "markdown",
      "metadata": {},
      "source": [
        "You can notice that the image resized to a bigger size has some reduction in its quality. This is because the function uses interpolation to calculate the new pixel values. By default, the interpolation method used is cv2.INTER_LINEAR, which is a linear interpolation method. \n",
        "\n",
        "Changing the interpolation method using the interpolation parameter and using a different method to resize the image is possible.\n",
        "\n",
        "Let's resize the image using the cv2.INTER_CUBIC and cv2.INTER_NEAREST interpolation methods."
      ]
    },
    {
      "cell_type": "code",
      "execution_count": null,
      "metadata": {},
      "outputs": [],
      "source": [
        "big_image_2 = cv2.resize(small_image, (0,0), fx=2, fy=2, interpolation=cv2.INTER_NEAREST)\n",
        "\n",
        "display_image(big_image_2)"
      ]
    },
    {
      "cell_type": "code",
      "execution_count": null,
      "metadata": {},
      "outputs": [],
      "source": [
        "big_image_3 = cv2.resize(small_image, (0,0), fx=2, fy=2, interpolation=cv2.INTER_CUBIC)\n",
        "\n",
        "display_image(big_image_3)"
      ]
    },
    {
      "cell_type": "markdown",
      "metadata": {},
      "source": [
        "## 2.2 - Rotate the image"
      ]
    },
    {
      "cell_type": "markdown",
      "metadata": {},
      "source": [
        "We can start with the simplest method, the cv2.rotate function, to rotate an image. This function rotates the image in multiples of 90 degrees.\n",
        "\n",
        "The function has two parameters: the image and the rotation mode. The rotation mode could be one of the following options:\n",
        "\n",
        "- cv2.ROTATE_90_CLOCKWISE\n",
        "- cv2.ROTATE_180\n",
        "- cv2.ROTATE_90_COUNTERCLOCKWISE\n"
      ]
    },
    {
      "cell_type": "code",
      "execution_count": null,
      "metadata": {},
      "outputs": [],
      "source": [
        "rotated_image = cv2.rotate(image_rgb, cv2.ROTATE_90_CLOCKWISE)\n",
        "\n",
        "display_image(rotated_image)"
      ]
    },
    {
      "cell_type": "code",
      "execution_count": null,
      "metadata": {},
      "outputs": [],
      "source": [
        "rotated_image_2 = cv2.rotate(image_rgb, cv2.ROTATE_90_COUNTERCLOCKWISE)\n",
        "\n",
        "display_image(rotated_image_2)"
      ]
    },
    {
      "cell_type": "code",
      "execution_count": null,
      "metadata": {},
      "outputs": [],
      "source": [
        "rotated_image_3 = cv2.rotate(image_rgb, cv2.ROTATE_180)\n",
        "\n",
        "display_image(rotated_image_3)"
      ]
    },
    {
      "cell_type": "markdown",
      "metadata": {},
      "source": [
        "To rotate the image in other angles, we can use the cv2.getRotationMatrix2D function to create a rotation matrix and the cv2.warpAffine function to apply the rotation matrix to the image."
      ]
    },
    {
      "cell_type": "code",
      "execution_count": null,
      "metadata": {},
      "outputs": [],
      "source": [
        "# Rotate tjeh image 45 degrees\n",
        "rotation_matrix = cv2.getRotationMatrix2D((image_rgb.shape[1] / 2, image_rgb.shape[0] / 2), 45, 1)\n",
        "rotated_image_4 = cv2.warpAffine(image_rgb, rotation_matrix, (image_rgb.shape[1], image_rgb.shape[0]))\n",
        "\n",
        "display_image(rotated_image_4)"
      ]
    },
    {
      "cell_type": "markdown",
      "metadata": {},
      "source": [
        "## 2.3 - Flip the image"
      ]
    },
    {
      "cell_type": "markdown",
      "metadata": {},
      "source": [
        "Flip an image is a simple operation that can be done using the cv2.flip function. The function has two parameters: the image and the flip code. The flip code could be one of the following options:\n",
        "\n",
        "- 0: flip the image vertically\n",
        "- 1: flip the image horizontally"
      ]
    },
    {
      "cell_type": "code",
      "execution_count": null,
      "metadata": {},
      "outputs": [],
      "source": [
        "# Flip the image horizontally\n",
        "image_flipped_horizontal = cv2.flip(image_rgb, 1)\n",
        "\n",
        "display_image(image_flipped_horizontal)"
      ]
    },
    {
      "cell_type": "code",
      "execution_count": null,
      "metadata": {},
      "outputs": [],
      "source": [
        "# Flip the image vertically\n",
        "image_flipped_vertical = cv2.flip(image_rgb, 0)\n",
        "\n",
        "display_image(image_flipped_vertical)"
      ]
    },
    {
      "cell_type": "markdown",
      "metadata": {},
      "source": [
        "## 2.4 - Crop the image"
      ]
    },
    {
      "cell_type": "markdown",
      "metadata": {},
      "source": [
        "Before starting to crop the image, we need to know that an image in OpenCV is represented as a NumPy matrix of 3 dimensions (height, width, channels). To crop the image, we need to define the region of interest (ROI) for which we want to keep using the NumPy slicing operation.\n",
        "\n",
        "The second to understand is the NumPy slicing operation. The slicing operation is used to extract a part of the matrix. The syntax is a matrix[start:end, start:end]. The first part of the syntax is the row range, and the second part is the column range."
      ]
    },
    {
      "cell_type": "code",
      "execution_count": null,
      "metadata": {},
      "outputs": [],
      "source": [
        "cropped_image = image_rgb[100:300, 200:400]\n",
        "\n",
        "display_image(cropped_image)"
      ]
    },
    {
      "cell_type": "markdown",
      "metadata": {},
      "source": [
        "## 2.5 - Change the color space of the image"
      ]
    },
    {
      "cell_type": "markdown",
      "metadata": {},
      "source": [
        "Changing the image's color space is possible using the cv2.cvtColor function. The function has two parameters: the image and the color conversion code. Several color conversion codes are available in OpenCV; you can see the complete list in the OpenCV documentation. One of the most common color conversion codes is cv2.COLOR_BGR2GRAY, which converts the image from BGR to grayscale."
      ]
    },
    {
      "cell_type": "code",
      "execution_count": null,
      "metadata": {},
      "outputs": [],
      "source": [
        "gray_image = cv2.cvtColor(image_rgb, cv2.COLOR_RGB2GRAY)\n",
        "\n",
        "# Display the image in grayscale will require the use of matplotlib with the cmap parameter set to 'gray'\n",
        "plt.imshow(gray_image, cmap='gray')\n",
        "plt.axis('off')\n",
        "plt.show()"
      ]
    },
    {
      "cell_type": "markdown",
      "metadata": {},
      "source": [
        "## 2.6 - Add text to the image"
      ]
    },
    {
      "cell_type": "markdown",
      "metadata": {},
      "source": [
        "Adding text to an image is a joint operation when working with images. We can use the cv2.putText function to add text to the image. The function has several parameters: the image, the text to add, the position of the text, the font, the font scale, the color, the thickness, and the line type.\n",
        "\n",
        "Let's add some text to the image."
      ]
    },
    {
      "cell_type": "code",
      "execution_count": null,
      "metadata": {},
      "outputs": [],
      "source": [
        "# Copy the original image, because we will draw on it and it\n",
        "# will modify the original image\n",
        "image_with_text = image_rgb.copy()\n",
        "\n",
        "# Select the font to use\n",
        "font = cv2.FONT_HERSHEY_SIMPLEX\n",
        "\n",
        "# Add the text to the image\n",
        "cv2.putText(image_with_text, \"Hello, I'm a dog! Woof!\", (10, 50), font, 1, (255, 255, 255), 2, cv2.LINE_AA)\n",
        "\n",
        "display_image(image_with_text)"
      ]
    },
    {
      "cell_type": "markdown",
      "metadata": {},
      "source": [
        "As you can see, adding text to the image is a simple operation. You can try to change the font, the font scale, the color, the thickness, and the line type to see the result."
      ]
    },
    {
      "cell_type": "markdown",
      "metadata": {},
      "source": [
        "## 2.7 - Draw shapes on the image"
      ]
    },
    {
      "cell_type": "markdown",
      "metadata": {},
      "source": [
        "Adding shapes to an image is another joint operation when working with images in OpenCV. We need to draw the bounding boxes around the detected objects when working with Deep Learning algorithms, like object detection with YOLO. This operation can be done using the cv2.rectangle function.\n",
        "\n",
        "Let's draw a rectangle around the dog in the image. The bounding box should be from the point (218, 90) to the point (404, 412)."
      ]
    },
    {
      "cell_type": "code",
      "execution_count": null,
      "metadata": {},
      "outputs": [],
      "source": [
        "image_with_rectangle = image_rgb.copy()\n",
        "\n",
        "# Draw a rectangle on the image\n",
        "cv2.rectangle(image_with_rectangle, (218, 90), (404, 412), (255, 0, 0), 2)\n",
        "\n",
        "display_image(image_with_rectangle)"
      ]
    },
    {
      "cell_type": "markdown",
      "metadata": {},
      "source": [
        "Now, lets to add a text label to the bounding box like in a prediction of an object detection algorithm."
      ]
    },
    {
      "cell_type": "code",
      "execution_count": null,
      "metadata": {},
      "outputs": [],
      "source": [
        "image_with_rectangle = image_rgb.copy()\n",
        "\n",
        "# Defined color red using the RGB format\n",
        "color_red = (255, 0, 0)\n",
        "\n",
        "# Draw a rectangle on the image\n",
        "cv2.rectangle(image_with_rectangle, (218, 90), (404, 412), color_red, 2)\n",
        "\n",
        "# Add the lable \"Dog\" to the bounding box\n",
        "font_size = 0.7\n",
        "font = cv2.FONT_HERSHEY_SIMPLEX\n",
        "cv2.putText(image_with_rectangle, \"Dog\", (218, 80), font, font_size, color_red, 2, cv2.LINE_AA)\n",
        "\n",
        "display_image(image_with_rectangle)"
      ]
    },
    {
      "cell_type": "markdown",
      "metadata": {},
      "source": [
        "# 3.- Displaying the image in a window"
      ]
    },
    {
      "cell_type": "markdown",
      "metadata": {},
      "source": [
        "**NOTE:** The following code creates a window and displays the image in the window. This operation can't be done in Google Colab, but you can run this code on your local machine and see the result."
      ]
    },
    {
      "cell_type": "markdown",
      "metadata": {},
      "source": [
        "Sometimes, you must display the image in a window to interact with the image using the mouse or the keyboard; these operations are common when working with video. To display the image in a window, we can use the cv2.imshow function."
      ]
    },
    {
      "cell_type": "markdown",
      "metadata": {},
      "source": [
        "Try to run the following code on your local machine. It will open a window with the image, so wait until you press any key to close it.\n",
        "\n",
        "```python\n",
        "import cv2\n",
        "\n",
        "def main():\n",
        "    # Load the image, we will work with the image in BGR format this time\n",
        "    image_bgr = cv2.imread(\"dog.jpg\", cv2.IMREAD_COLOR)\n",
        "\n",
        "    image_with_rectangle = image_bgr.copy()\n",
        "\n",
        "    # Defined color red using the RGB format\n",
        "    color_red = (255, 0, 0)\n",
        "\n",
        "    # Draw a rectangle on the image\n",
        "    cv2.rectangle(image_with_rectangle, (218, 90), (404, 412), color_red, 2)\n",
        "\n",
        "    # Add the lable \"Dog\" to the bounding box\n",
        "    font_size = 0.7\n",
        "    font = cv2.FONT_HERSHEY_SIMPLEX\n",
        "    cv2.putText(image_with_rectangle, \"Dog\", (218, 80), font, font_size, color_red, 2, cv2.LINE_AA)\n",
        "\n",
        "    # Display the image in the window until any key is pressed\n",
        "    cv2.imshow('Dog', image_bgr)\n",
        "    cv2.waitKey(0)\n",
        "    cv2.destroyAllWindows()\n",
        "\n",
        "\n",
        "if __name__ == \"__main__\":\n",
        "    main()\n",
        "```"
      ]
    },
    {
      "cell_type": "markdown",
      "metadata": {},
      "source": [
        "Working with images in OpenCV is simple and powerful. You can perform several operations with images, like resizing, rotating, flipping, cropping, changing the color space, adding text, and drawing shapes. These operations are essential when working with images in computer vision projects.\n",
        "\n",
        "In future posts, we will see how to work with videos and webcams and apply image processing techniques to images."
      ]
    },
    {
      "cell_type": "markdown",
      "metadata": {},
      "source": [
        "This document is distributed under the Apache License, Version 2.0, available in this link: https://www.apache.org/licenses/LICENSE-2.0"
      ]
    }
  ],
  "metadata": {
    "colab": {
      "provenance": []
    },
    "kernelspec": {
      "display_name": "Python 3",
      "name": "python3"
    },
    "language_info": {
      "codemirror_mode": {
        "name": "ipython",
        "version": 3
      },
      "file_extension": ".py",
      "mimetype": "text/x-python",
      "name": "python",
      "nbconvert_exporter": "python",
      "pygments_lexer": "ipython3",
      "version": "3.10.14"
    }
  },
  "nbformat": 4,
  "nbformat_minor": 0
}
